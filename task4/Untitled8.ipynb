{
 "cells": [
  {
   "cell_type": "code",
   "execution_count": 1,
   "metadata": {},
   "outputs": [
    {
     "name": "stderr",
     "output_type": "stream",
     "text": [
      "c:\\Users\\abamr\\Desktop\\ELovoTasks\\venv\\Lib\\site-packages\\tqdm\\auto.py:21: TqdmWarning: IProgress not found. Please update jupyter and ipywidgets. See https://ipywidgets.readthedocs.io/en/stable/user_install.html\n",
      "  from .autonotebook import tqdm as notebook_tqdm\n"
     ]
    }
   ],
   "source": [
    "import kagglehub\n",
    "import os\n"
   ]
  },
  {
   "cell_type": "code",
   "execution_count": 3,
   "metadata": {},
   "outputs": [
    {
     "name": "stdout",
     "output_type": "stream",
     "text": [
      "Downloading job description dataset...\n",
      "Job Description Dataset downloaded to: C:\\Users\\abamr\\.cache\\kagglehub\\datasets\\ravindrasinghrana\\job-description-dataset\\versions\\1\n",
      "Files: ['data', 'job_descriptions.csv']\n",
      "Downloading resume dataset...\n",
      "Resume Dataset downloaded to: C:\\Users\\abamr\\.cache\\kagglehub\\datasets\\snehaanbhawal\\resume-dataset\\versions\\1\n",
      "Files: ['data', 'Resume']\n"
     ]
    }
   ],
   "source": [
    "\n",
    "# Download job descriptions dataset\n",
    "print(\"Downloading job description dataset...\")\n",
    "dataset_path = kagglehub.dataset_download(\"ravindrasinghrana/job-description-dataset\")\n",
    "print(\"Job Description Dataset downloaded to:\", dataset_path)\n",
    "print(\"Files:\", os.listdir(dataset_path))\n",
    "\n",
    "# Download resume dataset\n",
    "print(\"Downloading resume dataset...\")\n",
    "resume_dataset_path = kagglehub.dataset_download(\"snehaanbhawal/resume-dataset\")\n",
    "print(\"Resume Dataset downloaded to:\", resume_dataset_path)\n",
    "print(\"Files:\", os.listdir(resume_dataset_path))\n",
    "\n",
    "# Paths to CSV files\n",
    "jobs_csv_path = os.path.join(dataset_path, \"job_descriptions.csv\")\n"
   ]
  },
  {
   "cell_type": "code",
   "execution_count": 4,
   "metadata": {},
   "outputs": [],
   "source": [
    "resumes_csv_path = os.path.join(resume_dataset_path, \"Resume/Resume.csv\")\n"
   ]
  },
  {
   "cell_type": "code",
   "execution_count": 3,
   "metadata": {},
   "outputs": [
    {
     "name": "stdout",
     "output_type": "stream",
     "text": [
      "Jobs dataset shape: (1615940, 23)\n",
      "Resumes dataset shape: (2484, 4)\n"
     ]
    }
   ],
   "source": [
    "import pandas as pd\n",
    "\n",
    "# Load datasets\n",
    "jobs_df = pd.read_csv(jobs_csv_path)\n",
    "resumes_df = pd.read_csv(resumes_csv_path)\n",
    "\n",
    "# Inspect structure\n",
    "print(\"Jobs dataset shape:\", jobs_df.shape)\n",
    "print(\"Resumes dataset shape:\", resumes_df.shape)\n",
    "\n",
    "\n"
   ]
  },
  {
   "cell_type": "code",
   "execution_count": 9,
   "metadata": {},
   "outputs": [
    {
     "name": "stdout",
     "output_type": "stream",
     "text": [
      "             Job Id     Experience Qualifications Salary Range    location  \\\n",
      "0  1089843540111562  5 to 15 Years         M.Tech    $59K-$99K     Douglas   \n",
      "1   398454096642776  2 to 12 Years            BCA   $56K-$116K    Ashgabat   \n",
      "2   481640072963533  0 to 12 Years            PhD   $61K-$104K       Macao   \n",
      "3   688192671473044  4 to 11 Years            PhD    $65K-$91K  Porto-Novo   \n",
      "4   117057806156508  1 to 12 Years            MBA    $64K-$87K    Santiago   \n",
      "\n",
      "            Country  latitude  longitude  Work Type  Company Size  ...  \\\n",
      "0       Isle of Man   54.2361    -4.5481     Intern         26801  ...   \n",
      "1      Turkmenistan   38.9697    59.5563     Intern        100340  ...   \n",
      "2  Macao SAR, China   22.1987   113.5439  Temporary         84525  ...   \n",
      "3             Benin    9.3077     2.3158  Full-Time        129896  ...   \n",
      "4             Chile  -35.6751   -71.5429     Intern         53944  ...   \n",
      "\n",
      "                      Job Title                       Role    Job Portal  \\\n",
      "0  Digital Marketing Specialist       Social Media Manager      Snagajob   \n",
      "1                 Web Developer     Frontend Web Developer      Idealist   \n",
      "2            Operations Manager    Quality Control Manager  Jobs2Careers   \n",
      "3              Network Engineer  Wireless Network Engineer      FlexJobs   \n",
      "4                 Event Manager         Conference Manager  Jobs2Careers   \n",
      "\n",
      "                                     Job Description  \\\n",
      "0  Social Media Managers oversee an organizations...   \n",
      "1  Frontend Web Developers design and implement u...   \n",
      "2  Quality Control Managers establish and enforce...   \n",
      "3  Wireless Network Engineers design, implement, ...   \n",
      "4  A Conference Manager coordinates and manages c...   \n",
      "\n",
      "                                            Benefits  \\\n",
      "0  {'Flexible Spending Accounts (FSAs), Relocatio...   \n",
      "1  {'Health Insurance, Retirement Plans, Paid Tim...   \n",
      "2  {'Legal Assistance, Bonuses and Incentive Prog...   \n",
      "3  {'Transportation Benefits, Professional Develo...   \n",
      "4  {'Flexible Spending Accounts (FSAs), Relocatio...   \n",
      "\n",
      "                                              skills  \\\n",
      "0  Social media platforms (e.g., Facebook, Twitte...   \n",
      "1  HTML, CSS, JavaScript Frontend frameworks (e.g...   \n",
      "2  Quality control processes and methodologies St...   \n",
      "3  Wireless network design and architecture Wi-Fi...   \n",
      "4  Event planning Conference logistics Budget man...   \n",
      "\n",
      "                                    Responsibilities  \\\n",
      "0  Manage and grow social media accounts, create ...   \n",
      "1  Design and code user interfaces for websites, ...   \n",
      "2  Establish and enforce quality control standard...   \n",
      "3  Design, configure, and optimize wireless netwo...   \n",
      "4  Specialize in conference and convention planni...   \n",
      "\n",
      "                            Company  \\\n",
      "0                 Icahn Enterprises   \n",
      "1      PNC Financial Services Group   \n",
      "2  United Services Automobile Assn.   \n",
      "3                              Hess   \n",
      "4                      Cairn Energy   \n",
      "\n",
      "                                     Company Profile  \\\n",
      "0  {\"Sector\":\"Diversified\",\"Industry\":\"Diversifie...   \n",
      "1  {\"Sector\":\"Financial Services\",\"Industry\":\"Com...   \n",
      "2  {\"Sector\":\"Insurance\",\"Industry\":\"Insurance: P...   \n",
      "3  {\"Sector\":\"Energy\",\"Industry\":\"Mining, Crude-O...   \n",
      "4  {\"Sector\":\"Energy\",\"Industry\":\"Energy - Oil & ...   \n",
      "\n",
      "                                       combined_text  \n",
      "0  Digital Marketing Specialist Social Media Mana...  \n",
      "1  Web Developer Frontend Web Developer Frontend ...  \n",
      "2  Operations Manager Quality Control Manager Qua...  \n",
      "3  Network Engineer Wireless Network Engineer Wir...  \n",
      "4  Event Manager Conference Manager A Conference ...  \n",
      "\n",
      "[5 rows x 24 columns]\n"
     ]
    }
   ],
   "source": [
    "print(jobs_df.head())"
   ]
  },
  {
   "cell_type": "code",
   "execution_count": 5,
   "metadata": {},
   "outputs": [
    {
     "name": "stdout",
     "output_type": "stream",
     "text": [
      "                      Job Title  \\\n",
      "0  Digital Marketing Specialist   \n",
      "1                 Web Developer   \n",
      "2            Operations Manager   \n",
      "\n",
      "                                       combined_text  \n",
      "0  Digital Marketing Specialist Social Media Mana...  \n",
      "1  Web Developer Frontend Web Developer Frontend ...  \n",
      "2  Operations Manager Quality Control Manager Qua...  \n"
     ]
    }
   ],
   "source": [
    "# Select columns that matter\n",
    "important_cols = ['Job Title', 'Role', 'Job Description', 'skills', 'Responsibilities', 'Qualifications']\n",
    "\n",
    "# Fill NaN with empty strings and combine\n",
    "jobs_df['combined_text'] = jobs_df[important_cols].fillna('').agg(' '.join, axis=1)\n",
    "\n",
    "# Check result\n",
    "print(jobs_df[['Job Title', 'combined_text']].head(3))\n"
   ]
  },
  {
   "cell_type": "code",
   "execution_count": 6,
   "metadata": {},
   "outputs": [
    {
     "name": "stdout",
     "output_type": "stream",
     "text": [
      "         ID                                         Resume_str  \\\n",
      "0  16852973           HR ADMINISTRATOR/MARKETING ASSOCIATE\\...   \n",
      "1  22323967           HR SPECIALIST, US HR OPERATIONS      ...   \n",
      "2  33176873           HR DIRECTOR       Summary      Over 2...   \n",
      "3  27018550           HR SPECIALIST       Summary    Dedica...   \n",
      "4  17812897           HR MANAGER         Skill Highlights  ...   \n",
      "\n",
      "                                         Resume_html Category  \n",
      "0  <div class=\"fontsize fontface vmargins hmargin...       HR  \n",
      "1  <div class=\"fontsize fontface vmargins hmargin...       HR  \n",
      "2  <div class=\"fontsize fontface vmargins hmargin...       HR  \n",
      "3  <div class=\"fontsize fontface vmargins hmargin...       HR  \n",
      "4  <div class=\"fontsize fontface vmargins hmargin...       HR  \n"
     ]
    }
   ],
   "source": [
    "print(resumes_df.head())"
   ]
  },
  {
   "cell_type": "code",
   "execution_count": 7,
   "metadata": {},
   "outputs": [
    {
     "name": "stderr",
     "output_type": "stream",
     "text": [
      "[nltk_data] Downloading package stopwords to\n",
      "[nltk_data]     C:\\Users\\abamr\\AppData\\Roaming\\nltk_data...\n",
      "[nltk_data]   Package stopwords is already up-to-date!\n"
     ]
    }
   ],
   "source": [
    "import re\n",
    "import nltk\n",
    "from nltk.corpus import stopwords\n",
    "\n",
    "# Download stopwords\n",
    "nltk.download('stopwords')\n",
    "stop_words = set(stopwords.words('english'))\n",
    "\n",
    "def preprocess_text(text):\n",
    "    text = str(text).lower()  # lowercase\n",
    "    text = re.sub(r'[^a-zA-Z0-9\\s]', '', text)  # remove special characters\n",
    "    words = [w for w in text.split() if w not in stop_words]  # remove stopwords\n",
    "    return ' '.join(words)"
   ]
  },
  {
   "cell_type": "code",
   "execution_count": 8,
   "metadata": {},
   "outputs": [],
   "source": [
    "# Load a lightweight Sentence-BERT model\n",
    "from sentence_transformers import SentenceTransformer\n",
    "\n",
    "model = SentenceTransformer('all-MiniLM-L6-v2')"
   ]
  },
  {
   "cell_type": "code",
   "execution_count": 12,
   "metadata": {},
   "outputs": [
    {
     "name": "stdout",
     "output_type": "stream",
     "text": [
      "Selected Job:\n",
      " Procurement Manager Procurement Analyst Analyze procurement data, identify cost-saving opportunities, and support the procurement process. Procurement processes Vendor assessment Contract negotiation Purchase order management Spend analysis Market research Supplier relationship management Data analysis Problem-solving Attention to detail Communication skills Financial acumen Analyze procurement data and trends to support decision-making. Conduct supplier evaluations and performance assessments.  \n",
      "\n"
     ]
    }
   ],
   "source": [
    "selected_job_text = jobs_df.iloc[66]['combined_text']  # change index if needed\n",
    "print(\"Selected Job:\\n\", selected_job_text[:500], \"\\n\")  # preview first 500 chars\n",
    "\n",
    "# Encode job description\n",
    "job_embedding = model.encode(preprocess_text(selected_job_text), convert_to_tensor=True)"
   ]
  },
  {
   "cell_type": "code",
   "execution_count": 13,
   "metadata": {},
   "outputs": [],
   "source": [
    "def normalize_score(score, min_val=0.2, max_val=0.8):\n",
    "    normalized = (score - min_val) / (max_val - min_val)\n",
    "    normalized = max(0, min(1, normalized))  # Clamp between 0 and 1\n",
    "    return round(normalized * 100, 2)  # Convert to"
   ]
  },
  {
   "cell_type": "code",
   "execution_count": 15,
   "metadata": {},
   "outputs": [
    {
     "name": "stdout",
     "output_type": "stream",
     "text": [
      "\n",
      "Top 5 matching resumes:\n",
      "\n",
      "Rank 8: Score=41.96%\n",
      "Snippet:          HR MANAGER         Professional Summary    Senior HR professional with a continuous improvement approach to building and supporting organizations.  Driven HR Manager bringing an innovative approach to human resource management while creating a team-driven environment that fosters room for d\n",
      "\n",
      "\n",
      "Rank 9: Score=40.73%\n",
      "Snippet:          HR SPECIALIST       Summary    Possess 15+ years of experience as an HR Classification/Compensation Lead and as an HR Specialist, Recruitment. Managed recruitment efforts that included qualifying candidates based on documented knowledge, skills, and abilities to match organizational resourc\n",
      "\n",
      "\n",
      "Rank 4: Score=36.57%\n",
      "Snippet:          HR SPECIALIST       Summary    Dedicated, Driven, and Dynamic with over 20 years of customer service expertise. Motivated to maintain customer satisfaction and contribute to company success with an emphasis in personnel and process management. Solid team player with proven ability to establ\n",
      "\n",
      "\n",
      "Rank 10: Score=35.56%\n",
      "Snippet:          HR CLERK       Summary    Translates business vision into HR initiatives that improve performance, profitability, growth, and employee engagement. Developing, improving and managing HR strategies in benefits and compensation, employee recruitment and development, ethics and corporate social\n",
      "\n",
      "\n",
      "Rank 7: Score=33.75%\n",
      "Snippet:          HR MANAGER       Summary    HUMAN RESOURCES MANAGER Extensive background in administrative duties, including experience in implementing staff development and training, mediation, conflict resolution, benefits and compensation training, HR records management, HR policies development and lega\n",
      "\n"
     ]
    }
   ],
   "source": [
    "# Take first 10 resumes for testing\n",
    "resume_texts = resumes_df['Resume_str'].head(10)\n",
    "resume_scores = []\n",
    "\n",
    "from sentence_transformers import util\n",
    "\n",
    "for i, resume in enumerate(resume_texts):\n",
    "    resume_clean = preprocess_text(resume)\n",
    "    resume_embedding = model.encode(resume_clean, convert_to_tensor=True)\n",
    "    score = util.cos_sim(job_embedding, resume_embedding).item()\n",
    "    resume_scores.append((i, score, resume[:300]))  # store index, score, snippet\n",
    "\n",
    "# Sort by score descending\n",
    "resume_scores.sort(key=lambda x: x[1], reverse=True)\n",
    "\n",
    "# Display top matches\n",
    "print(\"\\nTop 5 matching resumes:\")\n",
    "for idx, score, snippet in resume_scores[:5]:\n",
    "    print(f\"\\nRank {idx+1}: Score={normalize_score(score)}%\")\n",
    "    print(f\"Snippet: {snippet}\\n\")"
   ]
  },
  {
   "cell_type": "code",
   "execution_count": 16,
   "metadata": {},
   "outputs": [
    {
     "name": "stdout",
     "output_type": "stream",
     "text": [
      "\n",
      "Justifications for top resumes:\n",
      "\n",
      "Resume Rank 8: Score=45.18%\n",
      "Matched Keywords: ['data', 'mba', 'performance', 'vendor', 'processes', 'management', 'manager', 'market', 'process', 'analysis', 'skills', 'evaluations', 'communication']\n",
      "\n",
      "Resume Rank 9: Score=44.44%\n",
      "Matched Keywords: ['performance', 'research', 'negotiation', 'processes', 'management', 'analyst', 'manager', 'market', 'process', 'analysis', 'skills', 'conduct', 'evaluations', 'communication']\n",
      "\n",
      "Resume Rank 4: Score=41.94%\n",
      "Matched Keywords: ['management', 'skills', 'process', 'communication']\n"
     ]
    }
   ],
   "source": [
    "def extract_keywords(text1, text2):\n",
    "    words1 = set(text1.split())\n",
    "    words2 = set(text2.split())\n",
    "    return list(words1.intersection(words2))\n",
    "\n",
    "print(\"\\nJustifications for top resumes:\")\n",
    "for idx, score, snippet in resume_scores[:3]:\n",
    "    resume_clean = preprocess_text(resumes_df.iloc[idx]['Resume_str'])\n",
    "    keywords = extract_keywords(preprocess_text(selected_job_text), resume_clean)\n",
    "    print(f\"\\nResume Rank {idx+1}: Score={round(score*100, 2)}%\")\n",
    "    print(f\"Matched Keywords: {keywords}\")\n"
   ]
  },
  {
   "cell_type": "code",
   "execution_count": 17,
   "metadata": {},
   "outputs": [
    {
     "data": {
      "image/png": "[encoded data removed]",
      "text/plain": [
       "<Figure size 1200x800 with 2 Axes>"
      ]
     },
     "metadata": {},
     "output_type": "display_data"
    }
   ],
   "source": [
    "import pandas as pd\n",
    "import matplotlib.pyplot as plt\n",
    "import seaborn as sns\n",
    "from sentence_transformers import SentenceTransformer, util\n",
    "\n",
    "job_texts = jobs_df['combined_text'].head(10).tolist()\n",
    "resumes = resumes_df['Resume_str']\n",
    "\n",
    "\n",
    "results = []\n",
    "\n",
    "for job_idx, job in enumerate(job_texts):\n",
    "    job_embedding = model.encode(job, convert_to_tensor=True)\n",
    "    scores = []\n",
    "\n",
    "    for resume_idx, resume in enumerate(resume_texts):\n",
    "        resume_embedding = model.encode(resume, convert_to_tensor=True)\n",
    "        score = util.cos_sim(job_embedding, resume_embedding).item()\n",
    "        scores.append((resume_idx, score))\n",
    "\n",
    "    # Sort and take top N\n",
    "    top_resumes = sorted(scores, key=lambda x: x[1], reverse=True)[:5]\n",
    "\n",
    "    for rank, (resume_idx, score) in enumerate(top_resumes, 1):\n",
    "        results.append({\n",
    "            \"Job\": f\"Job {job_idx+1}\",\n",
    "            \"Resume\": f\"Resume {resume_idx+1}\",\n",
    "            \"Similarity\": normalize_score(score)\n",
    "        })\n",
    "\n",
    "# Convert to DataFrame\n",
    "df = pd.DataFrame(results)\n",
    "\n",
    "# Visualization: Heatmap\n",
    "pivot_df = df.pivot(index=\"Job\", columns=\"Resume\", values=\"Similarity\")\n",
    "\n",
    "plt.figure(figsize=(12, 8))\n",
    "sns.heatmap(pivot_df, annot=True, cmap=\"Blues\", fmt=\".1f\")\n",
    "plt.title(\"Top 5 Resumes per Job - Similarity %\")\n",
    "plt.xlabel(\"Resume\")\n",
    "plt.ylabel(\"Job\")\n",
    "plt.show()"
   ]
  }
 ],
 "metadata": {
  "language_info": {
   "name": "python"
  }
 },
 "nbformat": 4,
 "nbformat_minor": 0
}
